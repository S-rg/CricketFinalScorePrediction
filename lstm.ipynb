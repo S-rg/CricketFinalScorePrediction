{
 "cells": [
  {
   "cell_type": "code",
   "execution_count": 131,
   "id": "7b9c001f",
   "metadata": {
    "execution": {
     "iopub.execute_input": "2025-04-26T22:43:51.441777Z",
     "iopub.status.busy": "2025-04-26T22:43:51.441191Z",
     "iopub.status.idle": "2025-04-26T22:43:51.446877Z",
     "shell.execute_reply": "2025-04-26T22:43:51.446073Z",
     "shell.execute_reply.started": "2025-04-26T22:43:51.441755Z"
    },
    "trusted": true
   },
   "outputs": [],
   "source": [
    "import pandas as pd\n",
    "import numpy as np\n",
    "import pickle as pkl\n",
    "\n",
    "import matplotlib.pyplot as plt\n",
    "\n",
    "from keras.models import Sequential\n",
    "from keras.layers import Dense, LSTM, Input, Dropout, TimeDistributed, LayerNormalization, GlobalAveragePooling1D\n",
    "from keras.optimizers import Adam\n",
    "from tensorflow.keras.callbacks import ReduceLROnPlateau, EarlyStopping\n",
    "\n",
    "from sklearn.model_selection import train_test_split\n",
    "from sklearn.decomposition import PCA\n",
    "from sklearn.preprocessing import StandardScaler, MinMaxScaler\n"
   ]
  },
  {
   "cell_type": "code",
   "execution_count": 132,
   "id": "acfa1857",
   "metadata": {
    "execution": {
     "iopub.execute_input": "2025-04-26T22:43:51.448599Z",
     "iopub.status.busy": "2025-04-26T22:43:51.447961Z",
     "iopub.status.idle": "2025-04-26T22:43:55.325787Z",
     "shell.execute_reply": "2025-04-26T22:43:55.325078Z",
     "shell.execute_reply.started": "2025-04-26T22:43:51.448574Z"
    },
    "trusted": true
   },
   "outputs": [],
   "source": [
    "df = pd.read_csv(\n",
    "    'data\\premades\\over_by_over_data_with_player_data.csv',\n",
    "    dtype=float,\n",
    "    low_memory=True\n",
    ")"
   ]
  },
  {
   "cell_type": "code",
   "execution_count": 133,
   "id": "7acc3c27",
   "metadata": {
    "execution": {
     "iopub.execute_input": "2025-04-26T22:43:55.326689Z",
     "iopub.status.busy": "2025-04-26T22:43:55.326486Z",
     "iopub.status.idle": "2025-04-26T22:43:55.515085Z",
     "shell.execute_reply": "2025-04-26T22:43:55.514270Z",
     "shell.execute_reply.started": "2025-04-26T22:43:55.326673Z"
    },
    "trusted": true
   },
   "outputs": [],
   "source": [
    "X = df.drop(columns=['innings_total_score', 'ball'])\n",
    "y = df['innings_total_score']\n",
    "\n",
    "X = X.apply(pd.to_numeric, errors='coerce')"
   ]
  },
  {
   "cell_type": "code",
   "execution_count": 134,
   "id": "1e68cd46-2c4b-4da5-9866-41759b8b5352",
   "metadata": {
    "execution": {
     "iopub.execute_input": "2025-04-26T22:43:55.516718Z",
     "iopub.status.busy": "2025-04-26T22:43:55.516450Z",
     "iopub.status.idle": "2025-04-26T22:44:00.017754Z",
     "shell.execute_reply": "2025-04-26T22:44:00.016979Z",
     "shell.execute_reply.started": "2025-04-26T22:43:55.516701Z"
    },
    "trusted": true
   },
   "outputs": [],
   "source": [
    "X.replace([np.inf, -np.inf], np.nan, inplace=True)\n",
    "X.fillna(0, inplace=True)\n",
    "\n",
    "X_test = X[X['year'] >= 2024].copy()\n",
    "X_train_val = X[X['year'] < 2024].copy()\n",
    "\n",
    "grouping_cols = ['match_id', 'innings', 'over', 'year']\n",
    "\n",
    "X_train_val_features = X_train_val.drop(columns=grouping_cols)\n",
    "X_test_features = X_test.drop(columns=grouping_cols)\n",
    "\n",
    "scaler = StandardScaler()\n",
    "X_train_val_scaled = scaler.fit_transform(X_train_val_features)\n",
    "X_test_scaled = scaler.transform(X_test_features)\n",
    "\n",
    "pca = PCA(n_components=0.95)\n",
    "X_train_val_pca = pca.fit_transform(X_train_val_scaled)\n",
    "X_test_pca = pca.transform(X_test_scaled)\n",
    "\n",
    "X_train_val_pca_df = pd.DataFrame(X_train_val_pca, index=X_train_val.index)\n",
    "X_test_pca_df = pd.DataFrame(X_test_pca, index=X_test.index)\n",
    "\n",
    "X_train_val_processed = pd.concat([X_train_val[grouping_cols], X_train_val_pca_df], axis=1)\n",
    "X_test_processed = pd.concat([X_test[grouping_cols], X_test_pca_df], axis=1)\n",
    "\n",
    "X = pd.concat([X_train_val_processed, X_test_processed])"
   ]
  },
  {
   "cell_type": "code",
   "execution_count": 135,
   "id": "b163b1b4-9348-45f2-b6e5-6c930c98c962",
   "metadata": {
    "execution": {
     "iopub.execute_input": "2025-04-26T22:44:00.018847Z",
     "iopub.status.busy": "2025-04-26T22:44:00.018610Z",
     "iopub.status.idle": "2025-04-26T22:44:00.065705Z",
     "shell.execute_reply": "2025-04-26T22:44:00.065002Z",
     "shell.execute_reply.started": "2025-04-26T22:44:00.018823Z"
    },
    "trusted": true
   },
   "outputs": [],
   "source": [
    "X_test = X[X['year'] >= 2024].copy()\n",
    "X_train = X[X['year'] < 2024].copy()\n",
    "train_match_ids = X_train['match_id'].unique().tolist()\n",
    "test_match_ids = X_test['match_id'].unique().tolist()\n",
    "\n",
    "y_train = y[X['year'] < 2024].copy()\n",
    "y_test = y[X['year'] >= 2024].copy()"
   ]
  },
  {
   "cell_type": "code",
   "execution_count": 136,
   "id": "5460dc79",
   "metadata": {
    "execution": {
     "iopub.execute_input": "2025-04-26T22:44:00.066629Z",
     "iopub.status.busy": "2025-04-26T22:44:00.066373Z",
     "iopub.status.idle": "2025-04-26T22:44:00.181429Z",
     "shell.execute_reply": "2025-04-26T22:44:00.180587Z",
     "shell.execute_reply.started": "2025-04-26T22:44:00.066606Z"
    },
    "trusted": true
   },
   "outputs": [
    {
     "name": "stdout",
     "output_type": "stream",
     "text": [
      "(98287, 107) (10980, 107)\n",
      "(98287,) (10980,)\n"
     ]
    }
   ],
   "source": [
    "train_ids, val_ids = train_test_split(X_train['match_id'].unique(), test_size=0.10, random_state=42)\n",
    "\n",
    "X_train_seq = X_train[X_train['match_id'].isin(train_ids)]\n",
    "X_val_seq = X_train[X_train['match_id'].isin(val_ids)]\n",
    "\n",
    "y_train_seq = y_train[y_train.index.isin(X_train_seq.index)]\n",
    "y_val_seq = y_train[y_train.index.isin(X_val_seq.index)]\n",
    "\n",
    "print(X_train_seq.shape, X_val_seq.shape)\n",
    "print(y_train_seq.shape, y_val_seq.shape)"
   ]
  },
  {
   "cell_type": "code",
   "execution_count": 137,
   "id": "dfa51c14",
   "metadata": {
    "execution": {
     "iopub.execute_input": "2025-04-26T22:44:00.182535Z",
     "iopub.status.busy": "2025-04-26T22:44:00.182276Z",
     "iopub.status.idle": "2025-04-26T22:44:00.189034Z",
     "shell.execute_reply": "2025-04-26T22:44:00.188241Z",
     "shell.execute_reply.started": "2025-04-26T22:44:00.182512Z"
    },
    "trusted": true
   },
   "outputs": [],
   "source": [
    "def convert_to_sequences(X_df, y_series, key_cols=('match_id','innings'), \n",
    "                        time_col='over', max_len=50, feature_cols=None,\n",
    "                        exclude_cols=['match_id', 'year']):\n",
    "    if feature_cols is None:\n",
    "        exclude = set(key_cols) | {time_col} | set(exclude_cols)\n",
    "        feature_cols = [c for c in X_df.columns if c not in exclude]\n",
    "\n",
    "    seqs, targets = [], []\n",
    "\n",
    "    for key_vals, grp in X_df.groupby(list(key_cols)):\n",
    "        grp = grp.sort_values(time_col)\n",
    "        feats = grp[feature_cols].to_numpy(dtype=np.float32)\n",
    "\n",
    "        if feats.shape[0] >= max_len:\n",
    "            padded = feats[:max_len]\n",
    "        else:\n",
    "            pad = np.zeros((max_len - feats.shape[0], feats.shape[1]), dtype=np.float32)\n",
    "            padded = np.vstack([feats, pad])\n",
    "\n",
    "        seqs.append(padded)\n",
    "        targets.append(y_series.loc[grp.index].iloc[0])\n",
    "\n",
    "    X_seq = np.stack(seqs, axis=0)\n",
    "    y_seq = np.array(targets, dtype=np.float32)\n",
    "    return X_seq, y_seq"
   ]
  },
  {
   "cell_type": "code",
   "execution_count": 138,
   "id": "f7528e6f",
   "metadata": {
    "execution": {
     "iopub.execute_input": "2025-04-26T22:44:00.190101Z",
     "iopub.status.busy": "2025-04-26T22:44:00.189877Z",
     "iopub.status.idle": "2025-04-26T22:44:02.766225Z",
     "shell.execute_reply": "2025-04-26T22:44:02.765516Z",
     "shell.execute_reply.started": "2025-04-26T22:44:00.190085Z"
    },
    "trusted": true
   },
   "outputs": [
    {
     "name": "stdout",
     "output_type": "stream",
     "text": [
      "(2193, 50, 103) (2193,)\n",
      "(243, 50, 103) (243,)\n",
      "(79, 50, 103) (79,)\n"
     ]
    }
   ],
   "source": [
    "X_train_seq, y_train_seq = convert_to_sequences(X_train_seq, y_train_seq)\n",
    "X_val_seq, y_val_seq = convert_to_sequences(X_val_seq, y_val_seq)\n",
    "X_test_seq, y_test_seq = convert_to_sequences(X_test, y_test)\n",
    "\n",
    "print(X_train_seq.shape, y_train_seq.shape)\n",
    "print(X_val_seq.shape, y_val_seq.shape)\n",
    "print(X_test_seq.shape, y_test_seq.shape)"
   ]
  },
  {
   "cell_type": "code",
   "execution_count": 139,
   "id": "9e1d018d-1165-491d-b878-d12e73de04fe",
   "metadata": {
    "execution": {
     "iopub.execute_input": "2025-04-26T22:44:02.768108Z",
     "iopub.status.busy": "2025-04-26T22:44:02.767887Z",
     "iopub.status.idle": "2025-04-26T22:44:02.928152Z",
     "shell.execute_reply": "2025-04-26T22:44:02.927589Z",
     "shell.execute_reply.started": "2025-04-26T22:44:02.768091Z"
    },
    "trusted": true
   },
   "outputs": [],
   "source": [
    "model = Sequential()\n",
    "model.add(Input(shape=(50, X_train_seq.shape[2])))\n",
    "model.add(TimeDistributed(Dense(128, activation='relu')))\n",
    "model.add(LSTM(256, return_sequences=True, dropout=0.1))\n",
    "model.add(LSTM(128, return_sequences=True, dropout=0.1))\n",
    "model.add(LSTM(64, return_sequences=False, dropout=0.1))\n",
    "model.add(LayerNormalization())\n",
    "model.add(Dense(128, activation='relu'))\n",
    "model.add(Dropout(0.1))\n",
    "model.add(Dense(256, activation='relu'))\n",
    "model.add(Dense(128, activation='relu'))\n",
    "model.add(Dropout(0.1))\n",
    "model.add(Dense(64, activation='relu'))\n",
    "model.add(Dense(32, activation='relu'))\n",
    "model.add(Dense(1, activation='linear'))\n",
    "\n",
    "optimizer = Adam(learning_rate=1e-3, clipnorm=1.0)\n",
    "model.compile(optimizer=optimizer, loss='mean_squared_error')"
   ]
  },
  {
   "cell_type": "code",
   "execution_count": 140,
   "id": "7e7df102-76ad-484e-97c1-8442c623f190",
   "metadata": {
    "execution": {
     "iopub.execute_input": "2025-04-26T22:44:02.929033Z",
     "iopub.status.busy": "2025-04-26T22:44:02.928826Z",
     "iopub.status.idle": "2025-04-26T22:44:02.933381Z",
     "shell.execute_reply": "2025-04-26T22:44:02.932534Z",
     "shell.execute_reply.started": "2025-04-26T22:44:02.928999Z"
    },
    "trusted": true
   },
   "outputs": [],
   "source": [
    "reduce_lr = ReduceLROnPlateau(\n",
    "    monitor='val_loss',\n",
    "    factor=0.5,\n",
    "    patience=3,\n",
    "    min_lr=1e-8,\n",
    "    verbose=1\n",
    ")\n",
    "\n",
    "early_stop = EarlyStopping(\n",
    "    monitor='val_loss',\n",
    "    patience=10,\n",
    "    restore_best_weights=True\n",
    ")"
   ]
  },
  {
   "cell_type": "code",
   "execution_count": 141,
   "id": "cc5f24a8",
   "metadata": {
    "execution": {
     "iopub.execute_input": "2025-04-26T22:44:02.934443Z",
     "iopub.status.busy": "2025-04-26T22:44:02.934161Z",
     "iopub.status.idle": "2025-04-26T22:44:02.946440Z",
     "shell.execute_reply": "2025-04-26T22:44:02.945764Z",
     "shell.execute_reply.started": "2025-04-26T22:44:02.934416Z"
    },
    "trusted": true
   },
   "outputs": [],
   "source": [
    "epochs = 100\n",
    "batch_size = 128"
   ]
  },
  {
   "cell_type": "code",
   "execution_count": 142,
   "id": "c8e56c4b",
   "metadata": {
    "execution": {
     "iopub.execute_input": "2025-04-26T22:44:02.947403Z",
     "iopub.status.busy": "2025-04-26T22:44:02.947182Z",
     "iopub.status.idle": "2025-04-26T22:44:34.388828Z",
     "shell.execute_reply": "2025-04-26T22:44:34.388064Z",
     "shell.execute_reply.started": "2025-04-26T22:44:02.947387Z"
    },
    "trusted": true
   },
   "outputs": [
    {
     "name": "stdout",
     "output_type": "stream",
     "text": [
      "Epoch 1/100\n",
      "\u001b[1m18/18\u001b[0m \u001b[32m━━━━━━━━━━━━━━━━━━━━\u001b[0m\u001b[37m\u001b[0m \u001b[1m14s\u001b[0m 366ms/step - loss: 56784.0039 - val_loss: 20594.7285 - learning_rate: 0.0010\n",
      "Epoch 2/100\n",
      "\u001b[1m18/18\u001b[0m \u001b[32m━━━━━━━━━━━━━━━━━━━━\u001b[0m\u001b[37m\u001b[0m \u001b[1m5s\u001b[0m 292ms/step - loss: 12046.2441 - val_loss: 5685.3374 - learning_rate: 0.0010\n",
      "Epoch 3/100\n",
      "\u001b[1m18/18\u001b[0m \u001b[32m━━━━━━━━━━━━━━━━━━━━\u001b[0m\u001b[37m\u001b[0m \u001b[1m5s\u001b[0m 283ms/step - loss: 5620.9727 - val_loss: 3366.6887 - learning_rate: 0.0010\n",
      "Epoch 4/100\n",
      "\u001b[1m18/18\u001b[0m \u001b[32m━━━━━━━━━━━━━━━━━━━━\u001b[0m\u001b[37m\u001b[0m \u001b[1m5s\u001b[0m 284ms/step - loss: 2912.9863 - val_loss: 1824.6439 - learning_rate: 0.0010\n",
      "Epoch 5/100\n",
      "\u001b[1m18/18\u001b[0m \u001b[32m━━━━━━━━━━━━━━━━━━━━\u001b[0m\u001b[37m\u001b[0m \u001b[1m5s\u001b[0m 294ms/step - loss: 1899.3141 - val_loss: 1712.3573 - learning_rate: 0.0010\n",
      "Epoch 6/100\n",
      "\u001b[1m18/18\u001b[0m \u001b[32m━━━━━━━━━━━━━━━━━━━━\u001b[0m\u001b[37m\u001b[0m \u001b[1m6s\u001b[0m 312ms/step - loss: 1515.2280 - val_loss: 951.3123 - learning_rate: 0.0010\n",
      "Epoch 7/100\n",
      "\u001b[1m18/18\u001b[0m \u001b[32m━━━━━━━━━━━━━━━━━━━━\u001b[0m\u001b[37m\u001b[0m \u001b[1m5s\u001b[0m 293ms/step - loss: 1197.6863 - val_loss: 889.0699 - learning_rate: 0.0010\n",
      "Epoch 8/100\n",
      "\u001b[1m18/18\u001b[0m \u001b[32m━━━━━━━━━━━━━━━━━━━━\u001b[0m\u001b[37m\u001b[0m \u001b[1m5s\u001b[0m 293ms/step - loss: 1026.5958 - val_loss: 605.5116 - learning_rate: 0.0010\n",
      "Epoch 9/100\n",
      "\u001b[1m18/18\u001b[0m \u001b[32m━━━━━━━━━━━━━━━━━━━━\u001b[0m\u001b[37m\u001b[0m \u001b[1m6s\u001b[0m 307ms/step - loss: 858.6902 - val_loss: 658.0659 - learning_rate: 0.0010\n",
      "Epoch 10/100\n",
      "\u001b[1m18/18\u001b[0m \u001b[32m━━━━━━━━━━━━━━━━━━━━\u001b[0m\u001b[37m\u001b[0m \u001b[1m5s\u001b[0m 285ms/step - loss: 699.6625 - val_loss: 501.5253 - learning_rate: 0.0010\n",
      "Epoch 11/100\n",
      "\u001b[1m18/18\u001b[0m \u001b[32m━━━━━━━━━━━━━━━━━━━━\u001b[0m\u001b[37m\u001b[0m \u001b[1m5s\u001b[0m 286ms/step - loss: 611.3723 - val_loss: 523.3073 - learning_rate: 0.0010\n",
      "Epoch 12/100\n",
      "\u001b[1m18/18\u001b[0m \u001b[32m━━━━━━━━━━━━━━━━━━━━\u001b[0m\u001b[37m\u001b[0m \u001b[1m6s\u001b[0m 321ms/step - loss: 578.8936 - val_loss: 428.3052 - learning_rate: 0.0010\n",
      "Epoch 13/100\n",
      "\u001b[1m18/18\u001b[0m \u001b[32m━━━━━━━━━━━━━━━━━━━━\u001b[0m\u001b[37m\u001b[0m \u001b[1m5s\u001b[0m 299ms/step - loss: 537.3478 - val_loss: 745.0048 - learning_rate: 0.0010\n",
      "Epoch 14/100\n",
      "\u001b[1m18/18\u001b[0m \u001b[32m━━━━━━━━━━━━━━━━━━━━\u001b[0m\u001b[37m\u001b[0m \u001b[1m5s\u001b[0m 290ms/step - loss: 636.4666 - val_loss: 345.9461 - learning_rate: 0.0010\n",
      "Epoch 15/100\n",
      "\u001b[1m18/18\u001b[0m \u001b[32m━━━━━━━━━━━━━━━━━━━━\u001b[0m\u001b[37m\u001b[0m \u001b[1m5s\u001b[0m 302ms/step - loss: 467.3545 - val_loss: 463.6813 - learning_rate: 0.0010\n",
      "Epoch 16/100\n",
      "\u001b[1m18/18\u001b[0m \u001b[32m━━━━━━━━━━━━━━━━━━━━\u001b[0m\u001b[37m\u001b[0m \u001b[1m6s\u001b[0m 310ms/step - loss: 440.3437 - val_loss: 450.5529 - learning_rate: 0.0010\n",
      "Epoch 17/100\n",
      "\u001b[1m18/18\u001b[0m \u001b[32m━━━━━━━━━━━━━━━━━━━━\u001b[0m\u001b[37m\u001b[0m \u001b[1m0s\u001b[0m 320ms/step - loss: 455.3984\n",
      "Epoch 17: ReduceLROnPlateau reducing learning rate to 0.0005000000237487257.\n",
      "\u001b[1m18/18\u001b[0m \u001b[32m━━━━━━━━━━━━━━━━━━━━\u001b[0m\u001b[37m\u001b[0m \u001b[1m6s\u001b[0m 337ms/step - loss: 458.6010 - val_loss: 349.5474 - learning_rate: 0.0010\n",
      "Epoch 18/100\n",
      "\u001b[1m18/18\u001b[0m \u001b[32m━━━━━━━━━━━━━━━━━━━━\u001b[0m\u001b[37m\u001b[0m \u001b[1m6s\u001b[0m 312ms/step - loss: 437.3871 - val_loss: 292.6005 - learning_rate: 5.0000e-04\n",
      "Epoch 19/100\n",
      "\u001b[1m18/18\u001b[0m \u001b[32m━━━━━━━━━━━━━━━━━━━━\u001b[0m\u001b[37m\u001b[0m \u001b[1m5s\u001b[0m 293ms/step - loss: 357.6909 - val_loss: 403.5486 - learning_rate: 5.0000e-04\n",
      "Epoch 20/100\n",
      "\u001b[1m18/18\u001b[0m \u001b[32m━━━━━━━━━━━━━━━━━━━━\u001b[0m\u001b[37m\u001b[0m \u001b[1m5s\u001b[0m 292ms/step - loss: 352.6666 - val_loss: 345.7367 - learning_rate: 5.0000e-04\n",
      "Epoch 21/100\n",
      "\u001b[1m18/18\u001b[0m \u001b[32m━━━━━━━━━━━━━━━━━━━━\u001b[0m\u001b[37m\u001b[0m \u001b[1m0s\u001b[0m 274ms/step - loss: 319.8305\n",
      "Epoch 21: ReduceLROnPlateau reducing learning rate to 0.0002500000118743628.\n",
      "\u001b[1m18/18\u001b[0m \u001b[32m━━━━━━━━━━━━━━━━━━━━\u001b[0m\u001b[37m\u001b[0m \u001b[1m5s\u001b[0m 293ms/step - loss: 319.6205 - val_loss: 334.0497 - learning_rate: 5.0000e-04\n",
      "Epoch 22/100\n",
      "\u001b[1m18/18\u001b[0m \u001b[32m━━━━━━━━━━━━━━━━━━━━\u001b[0m\u001b[37m\u001b[0m \u001b[1m5s\u001b[0m 298ms/step - loss: 304.5233 - val_loss: 278.4775 - learning_rate: 2.5000e-04\n",
      "Epoch 23/100\n",
      "\u001b[1m18/18\u001b[0m \u001b[32m━━━━━━━━━━━━━━━━━━━━\u001b[0m\u001b[37m\u001b[0m \u001b[1m6s\u001b[0m 314ms/step - loss: 307.3795 - val_loss: 432.9645 - learning_rate: 2.5000e-04\n",
      "Epoch 24/100\n",
      "\u001b[1m18/18\u001b[0m \u001b[32m━━━━━━━━━━━━━━━━━━━━\u001b[0m\u001b[37m\u001b[0m \u001b[1m5s\u001b[0m 282ms/step - loss: 300.8785 - val_loss: 461.0980 - learning_rate: 2.5000e-04\n",
      "Epoch 25/100\n",
      "\u001b[1m18/18\u001b[0m \u001b[32m━━━━━━━━━━━━━━━━━━━━\u001b[0m\u001b[37m\u001b[0m \u001b[1m0s\u001b[0m 273ms/step - loss: 290.5737\n",
      "Epoch 25: ReduceLROnPlateau reducing learning rate to 0.0001250000059371814.\n",
      "\u001b[1m18/18\u001b[0m \u001b[32m━━━━━━━━━━━━━━━━━━━━\u001b[0m\u001b[37m\u001b[0m \u001b[1m5s\u001b[0m 289ms/step - loss: 290.7722 - val_loss: 383.2371 - learning_rate: 2.5000e-04\n",
      "Epoch 26/100\n",
      "\u001b[1m18/18\u001b[0m \u001b[32m━━━━━━━━━━━━━━━━━━━━\u001b[0m\u001b[37m\u001b[0m \u001b[1m5s\u001b[0m 297ms/step - loss: 274.9265 - val_loss: 417.2412 - learning_rate: 1.2500e-04\n",
      "Epoch 27/100\n",
      "\u001b[1m18/18\u001b[0m \u001b[32m━━━━━━━━━━━━━━━━━━━━\u001b[0m\u001b[37m\u001b[0m \u001b[1m5s\u001b[0m 276ms/step - loss: 267.4218 - val_loss: 357.3916 - learning_rate: 1.2500e-04\n",
      "Epoch 28/100\n",
      "\u001b[1m18/18\u001b[0m \u001b[32m━━━━━━━━━━━━━━━━━━━━\u001b[0m\u001b[37m\u001b[0m \u001b[1m0s\u001b[0m 268ms/step - loss: 270.2255\n",
      "Epoch 28: ReduceLROnPlateau reducing learning rate to 6.25000029685907e-05.\n",
      "\u001b[1m18/18\u001b[0m \u001b[32m━━━━━━━━━━━━━━━━━━━━\u001b[0m\u001b[37m\u001b[0m \u001b[1m5s\u001b[0m 286ms/step - loss: 269.5554 - val_loss: 312.1330 - learning_rate: 1.2500e-04\n",
      "Epoch 29/100\n",
      "\u001b[1m18/18\u001b[0m \u001b[32m━━━━━━━━━━━━━━━━━━━━\u001b[0m\u001b[37m\u001b[0m \u001b[1m5s\u001b[0m 280ms/step - loss: 257.6397 - val_loss: 360.7175 - learning_rate: 6.2500e-05\n",
      "Epoch 30/100\n",
      "\u001b[1m18/18\u001b[0m \u001b[32m━━━━━━━━━━━━━━━━━━━━\u001b[0m\u001b[37m\u001b[0m \u001b[1m5s\u001b[0m 302ms/step - loss: 274.0970 - val_loss: 413.0482 - learning_rate: 6.2500e-05\n",
      "Epoch 31/100\n",
      "\u001b[1m18/18\u001b[0m \u001b[32m━━━━━━━━━━━━━━━━━━━━\u001b[0m\u001b[37m\u001b[0m \u001b[1m0s\u001b[0m 293ms/step - loss: 249.0009\n",
      "Epoch 31: ReduceLROnPlateau reducing learning rate to 3.125000148429535e-05.\n",
      "\u001b[1m18/18\u001b[0m \u001b[32m━━━━━━━━━━━━━━━━━━━━\u001b[0m\u001b[37m\u001b[0m \u001b[1m6s\u001b[0m 312ms/step - loss: 249.9751 - val_loss: 394.2531 - learning_rate: 6.2500e-05\n",
      "Epoch 32/100\n",
      "\u001b[1m18/18\u001b[0m \u001b[32m━━━━━━━━━━━━━━━━━━━━\u001b[0m\u001b[37m\u001b[0m \u001b[1m5s\u001b[0m 281ms/step - loss: 261.7238 - val_loss: 356.4309 - learning_rate: 3.1250e-05\n"
     ]
    }
   ],
   "source": [
    "history = model.fit(\n",
    "    X_train_seq, y_train_seq,\n",
    "    validation_data=(X_val_seq, y_val_seq),\n",
    "    epochs=epochs,\n",
    "    batch_size=batch_size,\n",
    "    callbacks=[reduce_lr, early_stop],\n",
    "    verbose=1\n",
    ")"
   ]
  },
  {
   "cell_type": "code",
   "execution_count": null,
   "id": "ca182249",
   "metadata": {
    "execution": {
     "iopub.execute_input": "2025-04-26T22:44:34.390266Z",
     "iopub.status.busy": "2025-04-26T22:44:34.389985Z",
     "iopub.status.idle": "2025-04-26T22:44:37.151944Z",
     "shell.execute_reply": "2025-04-26T22:44:37.151284Z",
     "shell.execute_reply.started": "2025-04-26T22:44:34.390240Z"
    },
    "trusted": true
   },
   "outputs": [
    {
     "name": "stdout",
     "output_type": "stream",
     "text": [
      "\u001b[1m3/3\u001b[0m \u001b[32m━━━━━━━━━━━━━━━━━━━━\u001b[0m\u001b[37m\u001b[0m \u001b[1m2s\u001b[0m 492ms/step\n",
      "RMSE: 19.455677032470703\n"
     ]
    }
   ],
   "source": [
    "y_pred = model.predict(X_test_seq).flatten()\n",
    "rmse = np.sqrt(np.mean((y_test_seq - y_pred)**2))\n",
    "print(f'RMSE: {rmse}')"
   ]
  }
 ],
 "metadata": {
  "kaggle": {
   "accelerator": "gpu",
   "dataSources": [
    {
     "datasetId": 7258420,
     "sourceId": 11578665,
     "sourceType": "datasetVersion"
    }
   ],
   "dockerImageVersionId": 31011,
   "isGpuEnabled": true,
   "isInternetEnabled": false,
   "language": "python",
   "sourceType": "notebook"
  },
  "kernelspec": {
   "display_name": "tfenv",
   "language": "python",
   "name": "python3"
  },
  "language_info": {
   "codemirror_mode": {
    "name": "ipython",
    "version": 3
   },
   "file_extension": ".py",
   "mimetype": "text/x-python",
   "name": "python",
   "nbconvert_exporter": "python",
   "pygments_lexer": "ipython3",
   "version": "3.10.16"
  }
 },
 "nbformat": 4,
 "nbformat_minor": 5
}
