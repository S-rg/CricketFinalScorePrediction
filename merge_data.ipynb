{
 "cells": [
  {
   "cell_type": "code",
   "execution_count": 38,
   "id": "fd416d8f",
   "metadata": {},
   "outputs": [],
   "source": [
    "import pandas as pd\n",
    "import numpy as np\n",
    "import pickle as pkl\n",
    "\n",
    "from sklearn.model_selection import train_test_split\n",
    "from sklearn.ensemble import RandomForestRegressor\n",
    "from sklearn.preprocessing import OneHotEncoder\n",
    "from sklearn.metrics import mean_squared_error, mean_absolute_error, r2_score\n",
    "import xgboost as xgb\n",
    "\n",
    "from xgboost import XGBRegressor\n",
    "from sklearn.model_selection import cross_val_score\n",
    "\n",
    "\n",
    "from sklearn.model_selection import GridSearchCV\n",
    "import matplotlib.pyplot as plt\n",
    "\n",
    "import optuna\n",
    "\n",
    "from tqdm.notebook import tqdm"
   ]
  },
  {
   "cell_type": "code",
   "execution_count": 39,
   "id": "a6728e5f",
   "metadata": {},
   "outputs": [],
   "source": [
    "with open('data/lookup_maps/batter_timelines.pkl', 'rb') as f:\n",
    "    batter_timelines = pkl.load(f)\n",
    "\n",
    "with open('data/lookup_maps/bowler_timelines.pkl', 'rb') as f:\n",
    "    bowler_timelines = pkl.load(f)\n",
    "\n",
    "with open('data/lookup_maps/lookup_batsmen.pkl', 'rb') as f:\n",
    "    lookup_batsmen = pkl.load(f)\n",
    "\n",
    "with open('data/lookup_maps/lookup_bowlers.pkl', 'rb') as f:\n",
    "    lookup_bowlers = pkl.load(f)"
   ]
  },
  {
   "cell_type": "code",
   "execution_count": 40,
   "id": "9b38de49",
   "metadata": {},
   "outputs": [],
   "source": [
    "df = pd.read_csv('data/bbb_reindexed.csv')\n",
    "team_stats = pd.read_csv('data/team_match_rolling_stats.csv')\n",
    "weather_df = pd.read_csv('data/match_location_weather.csv')"
   ]
  },
  {
   "cell_type": "code",
   "execution_count": 41,
   "id": "5654b64f",
   "metadata": {},
   "outputs": [],
   "source": [
    "team_stats = team_stats.drop(columns=['match_date', 'runs_scored', 'won', 'wickets_taken'])"
   ]
  },
  {
   "cell_type": "code",
   "execution_count": 42,
   "id": "1aecbebe",
   "metadata": {},
   "outputs": [],
   "source": [
    "def get_stats(player_id, ball_id, lookup_map, timelines):\n",
    "    if player_id == None:\n",
    "        return None\n",
    "    \n",
    "    if player_id not in lookup_map:\n",
    "        return None\n",
    "    \n",
    "    player_data = lookup_map[player_id]\n",
    "    ranges = player_data['ranges']\n",
    "    mapping = player_data['mapping']\n",
    "    \n",
    "    left, right = 0, len(ranges) - 1\n",
    "    \n",
    "    while left <= right:\n",
    "        mid = (left + right) // 2\n",
    "        start, end = ranges[mid]\n",
    "        \n",
    "        if start <= ball_id < end:\n",
    "            idx = mapping[(start, end)]\n",
    "            return timelines[player_id].loc[idx]\n",
    "        elif ball_id >= end:\n",
    "            left = mid + 1\n",
    "        else:\n",
    "            right = mid - 1\n",
    "    \n",
    "    return None"
   ]
  },
  {
   "cell_type": "code",
   "execution_count": 43,
   "id": "d67fa35d",
   "metadata": {},
   "outputs": [],
   "source": [
    "allowed_teams = ['New Zealand', 'Pakistan', 'South Africa', 'Sri Lanka', 'West Indies', 'India', 'Australia', 'England']\n",
    "allowed_genders = ['male']\n",
    "allowed_dls = [False]\n",
    "\n",
    "tuna = True"
   ]
  },
  {
   "cell_type": "code",
   "execution_count": 44,
   "id": "0e1266eb",
   "metadata": {},
   "outputs": [],
   "source": [
    "df = pd.merge(df, \n",
    "                     team_stats[[\"match_id\", \"team\", \"win_rate_last_5\", \"avg_runs_last_5\"]], \n",
    "                     left_on=[\"match_id\", \"bat_team\"],\n",
    "                     right_on=[\"match_id\", \"team\"],\n",
    "                     how=\"left\",\n",
    "                     suffixes=(\"\", \"_bat\"))\n",
    "\n",
    "df = pd.merge(df,\n",
    "                     team_stats[[\"match_id\", \"team\", \"win_rate_last_5\", \"avg_wkts_last_5\"]],\n",
    "                     left_on=[\"match_id\", \"bowl_team\"],\n",
    "                     right_on=[\"match_id\", \"team\"],\n",
    "                     how=\"left\",\n",
    "                     suffixes=(\"\", \"_bowl\"))\n",
    "\n",
    "df = pd.merge(df,\n",
    "                        weather_df[[\"match_id\", \"temperature_2m\", \"relative_humidity_2m\", \"cloud_cover\", \"wind_speed_10m\", \"dew_point_2m\"]],\n",
    "                        left_on=[\"match_id\"],\n",
    "                        right_on=[\"match_id\"],\n",
    "                        how=\"left\",\n",
    "                        suffixes=(\"\", \"_weather\"))"
   ]
  },
  {
   "cell_type": "code",
   "execution_count": 45,
   "id": "865428e6",
   "metadata": {},
   "outputs": [],
   "source": [
    "df['year'] = pd.to_datetime(df['match_date']).dt.year"
   ]
  },
  {
   "cell_type": "code",
   "execution_count": 46,
   "id": "c1443c8d",
   "metadata": {},
   "outputs": [
    {
     "data": {
      "text/plain": [
       "Index(['ball_id', 'match_id', 'match_date', 'dl', 'gender', 'venue', 'innings',\n",
       "       'bat_team', 'bowl_team', 'over', 'ball', 'batter', 'batter_name',\n",
       "       'bowler', 'bowler_name', 'non_striker', 'runs_batter', 'runs_extras',\n",
       "       'runs_total', 'wicket_type', 'player_out', 'bat_team_player_1',\n",
       "       'bat_team_player_2', 'bat_team_player_3', 'bat_team_player_4',\n",
       "       'bat_team_player_5', 'bat_team_player_6', 'bat_team_player_7',\n",
       "       'bat_team_player_8', 'bat_team_player_9', 'bat_team_player_10',\n",
       "       'bat_team_player_11', 'bowl_team_top_bowler_1',\n",
       "       'bowl_team_top_bowler_2', 'bowl_team_top_bowler_3',\n",
       "       'bowl_team_top_bowler_4', 'bowl_team_top_bowler_5', 'batter_total_runs',\n",
       "       'batter_balls_faced', 'bowler_total_runs', 'bowler_balls_bowled',\n",
       "       'team_total_runs', 'wickets_taken', 'rr', 'target', 'remaining_balls',\n",
       "       'rrr', 'team', 'win_rate_last_5', 'avg_runs_last_5', 'team_bowl',\n",
       "       'win_rate_last_5_bowl', 'avg_wkts_last_5', 'temperature_2m',\n",
       "       'relative_humidity_2m', 'cloud_cover', 'wind_speed_10m', 'dew_point_2m',\n",
       "       'year'],\n",
       "      dtype='object')"
      ]
     },
     "execution_count": 46,
     "metadata": {},
     "output_type": "execute_result"
    }
   ],
   "source": [
    "df.columns"
   ]
  },
  {
   "cell_type": "code",
   "execution_count": 47,
   "id": "2e2d52ae",
   "metadata": {},
   "outputs": [
    {
     "name": "stdout",
     "output_type": "stream",
     "text": [
      "(1547846, 59)\n",
      "(690316, 59)\n"
     ]
    }
   ],
   "source": [
    "print(df.shape)\n",
    "\n",
    "df = df[(df['bat_team'].isin(allowed_teams)) & \n",
    "    (df['bowl_team'].isin(allowed_teams)) & \n",
    "    (df['gender'].isin(allowed_genders)) &\n",
    "    (df['dl'].isin(allowed_dls))\n",
    "    ]\n",
    "print(df.shape)"
   ]
  },
  {
   "cell_type": "code",
   "execution_count": 48,
   "id": "479f0c82",
   "metadata": {},
   "outputs": [
    {
     "data": {
      "text/plain": [
       "(1278,)"
      ]
     },
     "execution_count": 48,
     "metadata": {},
     "output_type": "execute_result"
    }
   ],
   "source": [
    "df['match_id'].unique().shape"
   ]
  },
  {
   "cell_type": "code",
   "execution_count": 49,
   "id": "10f91cef",
   "metadata": {
    "vscode": {
     "languageId": "ruby"
    }
   },
   "outputs": [
    {
     "name": "stderr",
     "output_type": "stream",
     "text": [
      "C:\\Users\\arnav\\AppData\\Local\\Temp\\ipykernel_12852\\1574401420.py:2: SettingWithCopyWarning: \n",
      "A value is trying to be set on a copy of a slice from a DataFrame.\n",
      "Try using .loc[row_indexer,col_indexer] = value instead\n",
      "\n",
      "See the caveats in the documentation: https://pandas.pydata.org/pandas-docs/stable/user_guide/indexing.html#returning-a-view-versus-a-copy\n",
      "  last_balls['innings_total_score'] = last_balls['team_total_runs']\n"
     ]
    }
   ],
   "source": [
    "last_balls = df.groupby(['match_id', 'innings']).tail(1)\n",
    "last_balls['innings_total_score'] = last_balls['team_total_runs']\n",
    "innings_score_map = last_balls.set_index(['match_id', 'innings'])['innings_total_score']\n",
    "df['innings_total_score'] = df.set_index(['match_id', 'innings']).index.map(innings_score_map)\n",
    "df['innings_total_score'] = df['innings_total_score'].fillna(0)"
   ]
  },
  {
   "cell_type": "code",
   "execution_count": 50,
   "id": "9d1a318b",
   "metadata": {
    "vscode": {
     "languageId": "ruby"
    }
   },
   "outputs": [
    {
     "name": "stdout",
     "output_type": "stream",
     "text": [
      "[0, 1, 2, 3, 4, 5, 6, 7, 8, 9, 10, 11, 12, 13, 14, 15, 16, 17, 18, 19, 20, 21, 22, 23, 24, 25, 26, 27, 28, 29, 30, 31, 32, 33, 34, 35, 36, 37, 38, 39, 40, 41, 42, 43, 44, 45, 46, 47, 48, 49, 50]\n"
     ]
    }
   ],
   "source": [
    "overs = [i for i in range(51)]\n",
    "print(overs)\n",
    "df = df[df['over'].isin(overs) & (df['ball'] == 1)].drop_duplicates(subset=['match_id', 'innings', 'over', 'ball'])"
   ]
  },
  {
   "cell_type": "code",
   "execution_count": 51,
   "id": "06adc5d0",
   "metadata": {
    "vscode": {
     "languageId": "ruby"
    }
   },
   "outputs": [
    {
     "data": {
      "application/vnd.jupyter.widget-view+json": {
       "model_id": "9fc6532c24194269ac91395cae01162d",
       "version_major": 2,
       "version_minor": 0
      },
      "text/plain": [
       "  0%|          | 0/11 [00:00<?, ?it/s]"
      ]
     },
     "metadata": {},
     "output_type": "display_data"
    },
    {
     "data": {
      "application/vnd.jupyter.widget-view+json": {
       "model_id": "49a096e3b76141f2863bf5fecd8b0094",
       "version_major": 2,
       "version_minor": 0
      },
      "text/plain": [
       "  0%|          | 0/5 [00:00<?, ?it/s]"
      ]
     },
     "metadata": {},
     "output_type": "display_data"
    }
   ],
   "source": [
    "BATTER_STATS = ['avg', 'sr']\n",
    "BOWLER_STATS = ['bowling_avg', 'bowling_sr', 'economy']\n",
    "\n",
    "for i in tqdm(range(1, 12)):\n",
    "    bat_player_col = f'bat_team_player_{i}'\n",
    "    \n",
    "    if bat_player_col in df.columns:\n",
    "        stats_list = []\n",
    "        for idx, row in df.iterrows():\n",
    "            player_id = row[bat_player_col]\n",
    "            ball_id = row['ball_id']\n",
    "            if pd.notna(player_id):\n",
    "                stats = get_stats(player_id, ball_id, lookup_batsmen, batter_timelines)\n",
    "                stats_list.append(stats)\n",
    "            else:\n",
    "                stats_list.append(None)\n",
    "        \n",
    "        for stat in BATTER_STATS:\n",
    "            stat_values = []\n",
    "            for stats_obj in stats_list:\n",
    "                if stats_obj is not None and stat in stats_obj:\n",
    "                    stat_values.append(stats_obj[stat])\n",
    "                else:\n",
    "                    stat_values.append(None)\n",
    "            df[f'{bat_player_col}_{stat}'] = stat_values\n",
    "\n",
    "\n",
    "for i in tqdm(range(1, 6)):\n",
    "    bowl_player_col = f'bowl_team_top_bowler_{i}'\n",
    "\n",
    "    if bowl_player_col in df.columns:\n",
    "        stats_list = []\n",
    "        for idx, row in df.iterrows():\n",
    "            player_id = row[bowl_player_col]\n",
    "            ball_id = row['ball_id']\n",
    "            if pd.notna(player_id):\n",
    "                stats = get_stats(player_id, ball_id, lookup_bowlers, bowler_timelines)\n",
    "                stats_list.append(stats)\n",
    "            else:\n",
    "                stats_list.append(None)\n",
    "        \n",
    "        for stat in BOWLER_STATS:\n",
    "            stat_values = []\n",
    "            for stats_obj in stats_list:\n",
    "                if stats_obj is not None and stat in stats_obj:\n",
    "                    stat_values.append(stats_obj[stat])\n",
    "                else:\n",
    "                    stat_values.append(None)\n",
    "            \n",
    "            df[f'{bowl_player_col}_{stat}'] = stat_values"
   ]
  },
  {
   "cell_type": "code",
   "execution_count": null,
   "id": "6174df87",
   "metadata": {
    "vscode": {
     "languageId": "ruby"
    }
   },
   "outputs": [
    {
     "data": {
      "text/plain": [
       "Index(['ball_id', 'match_id', 'match_date', 'dl', 'gender', 'venue', 'innings',\n",
       "       'bat_team', 'bowl_team', 'over', 'ball', 'batter', 'batter_name',\n",
       "       'bowler', 'bowler_name', 'non_striker', 'runs_batter', 'runs_extras',\n",
       "       'runs_total', 'wicket_type', 'player_out', 'bat_team_player_1',\n",
       "       'bat_team_player_2', 'bat_team_player_3', 'bat_team_player_4',\n",
       "       'bat_team_player_5', 'bat_team_player_6', 'bat_team_player_7',\n",
       "       'bat_team_player_8', 'bat_team_player_9', 'bat_team_player_10',\n",
       "       'bat_team_player_11', 'bowl_team_top_bowler_1',\n",
       "       'bowl_team_top_bowler_2', 'bowl_team_top_bowler_3',\n",
       "       'bowl_team_top_bowler_4', 'bowl_team_top_bowler_5', 'batter_total_runs',\n",
       "       'batter_balls_faced', 'bowler_total_runs', 'bowler_balls_bowled',\n",
       "       'team_total_runs', 'wickets_taken', 'rr', 'target', 'remaining_balls',\n",
       "       'rrr', 'team', 'win_rate_last_5', 'avg_runs_last_5', 'team_bowl',\n",
       "       'win_rate_last_5_bowl', 'avg_wkts_last_5', 'temperature_2m',\n",
       "       'relative_humidity_2m', 'cloud_cover', 'wind_speed_10m', 'dew_point_2m',\n",
       "       'year', 'innings_total_score', 'bat_team_player_1_avg',\n",
       "       'bat_team_player_1_sr', 'bat_team_player_2_avg', 'bat_team_player_2_sr',\n",
       "       'bat_team_player_3_avg', 'bat_team_player_3_sr',\n",
       "       'bat_team_player_4_avg', 'bat_team_player_4_sr',\n",
       "       'bat_team_player_5_avg', 'bat_team_player_5_sr',\n",
       "       'bat_team_player_6_avg', 'bat_team_player_6_sr',\n",
       "       'bat_team_player_7_avg', 'bat_team_player_7_sr',\n",
       "       'bat_team_player_8_avg', 'bat_team_player_8_sr',\n",
       "       'bat_team_player_9_avg', 'bat_team_player_9_sr',\n",
       "       'bat_team_player_10_avg', 'bat_team_player_10_sr',\n",
       "       'bat_team_player_11_avg', 'bat_team_player_11_sr',\n",
       "       'bowl_team_top_bowler_1_bowling_avg',\n",
       "       'bowl_team_top_bowler_1_bowling_sr', 'bowl_team_top_bowler_1_economy',\n",
       "       'bowl_team_top_bowler_2_bowling_avg',\n",
       "       'bowl_team_top_bowler_2_bowling_sr', 'bowl_team_top_bowler_2_economy',\n",
       "       'bowl_team_top_bowler_3_bowling_avg',\n",
       "       'bowl_team_top_bowler_3_bowling_sr', 'bowl_team_top_bowler_3_economy',\n",
       "       'bowl_team_top_bowler_4_bowling_avg',\n",
       "       'bowl_team_top_bowler_4_bowling_sr', 'bowl_team_top_bowler_4_economy',\n",
       "       'bowl_team_top_bowler_5_bowling_avg',\n",
       "       'bowl_team_top_bowler_5_bowling_sr', 'bowl_team_top_bowler_5_economy'],\n",
       "      dtype='object')"
      ]
     },
     "execution_count": 52,
     "metadata": {},
     "output_type": "execute_result"
    }
   ],
   "source": [
    " df.columns"
   ]
  },
  {
   "cell_type": "code",
   "execution_count": 53,
   "id": "b1d47fa8",
   "metadata": {},
   "outputs": [],
   "source": [
    "drop_cols1 = ['target','batter', 'bowler', 'non_striker', 'player_out', 'dl', 'gender', 'wicket_type', 'match_date', 'venue', 'bat_team', 'bowl_team', 'team', 'team_bowl', 'team_bat']\n",
    "drop_cols2 = [f'bat_team_player_{i}' for i in range(1, 12)] + [f'bowl_team_top_bowler_{i}' for i in range(1, 12)]\n",
    "drop_cols = [col for col in df.columns if 'name' in col or '_id' in col\n",
    "             or col in drop_cols1 or col in drop_cols2]\n",
    "\n",
    "drop_cols.remove('match_id')\n",
    "\n",
    "df = df.drop(columns=drop_cols)"
   ]
  },
  {
   "cell_type": "code",
   "execution_count": 54,
   "id": "d3d34fe9",
   "metadata": {},
   "outputs": [],
   "source": [
    "df.to_csv('data/premades/over_by_over_data.csv')"
   ]
  }
 ],
 "metadata": {
  "kernelspec": {
   "display_name": "base",
   "language": "python",
   "name": "python3"
  },
  "language_info": {
   "codemirror_mode": {
    "name": "ipython",
    "version": 3
   },
   "file_extension": ".py",
   "mimetype": "text/x-python",
   "name": "python",
   "nbconvert_exporter": "python",
   "pygments_lexer": "ipython3",
   "version": "3.11.4"
  }
 },
 "nbformat": 4,
 "nbformat_minor": 5
}
