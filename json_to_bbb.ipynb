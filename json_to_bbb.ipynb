{
 "cells": [
  {
   "cell_type": "code",
   "execution_count": 26,
   "id": "a272102e",
   "metadata": {},
   "outputs": [],
   "source": [
    "import numpy as np\n",
    "import pandas as pd\n",
    "import json\n",
    "import os\n",
    "from tqdm.auto import tqdm"
   ]
  },
  {
   "cell_type": "code",
   "execution_count": 27,
   "id": "cdfca235",
   "metadata": {},
   "outputs": [
    {
     "data": {
      "text/plain": [
       "2938"
      ]
     },
     "execution_count": 27,
     "metadata": {},
     "output_type": "execute_result"
    }
   ],
   "source": [
    "files = os.listdir('odis_json')\n",
    "len(files)"
   ]
  },
  {
   "cell_type": "code",
   "execution_count": 28,
   "id": "257e277a",
   "metadata": {},
   "outputs": [
    {
     "name": "stderr",
     "output_type": "stream",
     "text": [
      "Processing Matches:  17%|█▋        | 512/2938 [00:01<00:06, 396.87it/s]"
     ]
    },
    {
     "name": "stdout",
     "output_type": "stream",
     "text": [
      "Skipping file due to decoding error: .DS_Store\n"
     ]
    },
    {
     "name": "stderr",
     "output_type": "stream",
     "text": [
      "Processing Matches: 100%|██████████| 2938/2938 [00:07<00:00, 384.82it/s]\n"
     ]
    }
   ],
   "source": [
    "dfs = []\n",
    "ball_id = 1\n",
    "\n",
    "for file in tqdm(files, desc=\"Processing Matches: \"):\n",
    "    with open('odis_json/' + file, encoding='utf-8', errors='replace') as f:\n",
    "        try:\n",
    "            data = json.load(f)\n",
    "        except (json.JSONDecodeError, UnicodeDecodeError):\n",
    "            print(f\"Skipping file due to decoding error: {file}\")\n",
    "            continue\n",
    "\n",
    "        rows = []\n",
    "        registry = data['info']['registry']['people']\n",
    "        teams = data['info']['teams']\n",
    "        match_id = file.split('.')[0]\n",
    "        match_date = data['info']['dates'][0]\n",
    "        venue = data['info']['venue']\n",
    "\n",
    "        dl = False\n",
    "\n",
    "        if 'method' in data['info']['outcome']:\n",
    "            if data['info']['outcome']['method'] == 'D/L':\n",
    "                dl = True\n",
    "\n",
    "        gender = data['info']['gender']\n",
    "\n",
    "        players = data['info']['players']\n",
    "        for team in players:\n",
    "            for player in range(len(players[team])):\n",
    "                players[team][player] = registry[players[team][player]]                \n",
    "\n",
    "        for innings_number, innings in enumerate(data['innings']):\n",
    "            bat_team = innings['team']\n",
    "            bowl_team = teams[1] if bat_team == teams[0] else teams[0]\n",
    "\n",
    "            bat_team_players = players[bat_team].copy()\n",
    "            bowl_team_players = players[bowl_team]\n",
    "\n",
    "            # Identify the top 5 bowlers who bowled the most in this innings\n",
    "            bowler_counts = {}\n",
    "            for over in innings['overs']:\n",
    "                for ball in over['deliveries']:\n",
    "                    bowler_id = registry[ball['bowler']]\n",
    "                    if bowler_id in bowler_counts:\n",
    "                        bowler_counts[bowler_id] += 1\n",
    "                    else:\n",
    "                        bowler_counts[bowler_id] = 1\n",
    "            \n",
    "            # Get the top 5 bowlers with the most balls bowled\n",
    "            top_5_bowlers = sorted(bowler_counts.items(), key=lambda x: x[1], reverse=True)[:5]\n",
    "            top_5_bowlers_ids = [bowler[0] for bowler in top_5_bowlers]\n",
    "            \n",
    "            # Fill with None if there are fewer than 5 bowlers\n",
    "            while len(top_5_bowlers_ids) < 5:\n",
    "                top_5_bowlers_ids.append(None)\n",
    "\n",
    "            for over in innings['overs']:\n",
    "                over_number = over['over']\n",
    "                ball_number = 1\n",
    "                for ball in over['deliveries']:\n",
    "                    wicket_type = None\n",
    "                    player_out = None\n",
    "                    extra_type = None\n",
    "                    if 'wickets' in ball:\n",
    "                        wicket = ball['wickets'][0]\n",
    "                        wicket_type = wicket.get('kind')\n",
    "                        player_out_id = wicket.get('player_out')\n",
    "                        player_out = registry[player_out_id]\n",
    "                    if 'extras' in ball:\n",
    "                        extra_type = list(ball['extras'].keys())[0]\n",
    "                    \n",
    "                    \n",
    "                    # Create the row dictionary with current state of players\n",
    "                    row = {\n",
    "                        'ball_id': ball_id,\n",
    "                        'match_id': match_id,\n",
    "                        'match_date': match_date,\n",
    "                        'dls': dl,\n",
    "                        'gender': gender,\n",
    "                        'venue': venue,\n",
    "                        'innings': innings_number + 1,\n",
    "                        'bat_team': bat_team,\n",
    "                        'bowl_team': bowl_team,\n",
    "                        'over': over_number,\n",
    "                        'ball': ball_number,\n",
    "                        'batter': registry[ball['batter']],\n",
    "                        'batter_name': ball['batter'],\n",
    "                        'non_striker': registry[ball['non_striker']],\n",
    "                        'non_striker_name': ball['non_striker'],\n",
    "                        'bowler': registry[ball['bowler']],\n",
    "                        'bowler_name': ball['bowler'],\n",
    "                        'ball_runs_batter': ball['runs']['batter'],\n",
    "                        'ball_runs_extras': ball['runs']['extras'],\n",
    "                        'ball_extras_type': extra_type,\n",
    "                        'ball_runs_total': ball['runs']['total'],\n",
    "                        'ball_wicket_type': wicket_type,\n",
    "                        'ball_player_out': player_out,\n",
    "                    }\n",
    "                    \n",
    "                    # To make sure that there are only 6 balls in an over:\n",
    "                    if 'extras' in ball:\n",
    "                        extras = ball['extras']\n",
    "                        if 'wides' in extras or 'noballs' in extras:\n",
    "                            ball_number -= 1\n",
    "\n",
    "                    ball_number += 1\n",
    "                    ball_id += 1 \n",
    "                    rows.append(row)\n",
    "                    \n",
    "        df = pd.DataFrame(rows)\n",
    "        dfs.append(df)"
   ]
  },
  {
   "cell_type": "code",
   "execution_count": 29,
   "id": "6385a390",
   "metadata": {},
   "outputs": [],
   "source": [
    "df = pd.concat(dfs, ignore_index=True)\n",
    "df['match_date'] = pd.to_datetime(df['match_date'])\n",
    "df.sort_values(by=['match_date', 'match_id', 'innings', 'over', 'ball_id'], inplace=True)"
   ]
  },
  {
   "cell_type": "code",
   "execution_count": 30,
   "id": "1c3718df",
   "metadata": {},
   "outputs": [],
   "source": [
    "df = df.reset_index(drop=True)\n",
    "df['ball_id'] = df.index\n",
    "df.set_index('ball_id', inplace=True)"
   ]
  },
  {
   "cell_type": "code",
   "execution_count": 31,
   "id": "2e911950",
   "metadata": {},
   "outputs": [],
   "source": [
    "df.to_csv(\"data/bbb.csv\", index=True)"
   ]
  },
  {
   "cell_type": "code",
   "execution_count": null,
   "id": "3774c237",
   "metadata": {},
   "outputs": [],
   "source": [
    "# TODO: Make sure this works for all formats"
   ]
  }
 ],
 "metadata": {
  "kernelspec": {
   "display_name": "mlpr",
   "language": "python",
   "name": "python3"
  },
  "language_info": {
   "codemirror_mode": {
    "name": "ipython",
    "version": 3
   },
   "file_extension": ".py",
   "mimetype": "text/x-python",
   "name": "python",
   "nbconvert_exporter": "python",
   "pygments_lexer": "ipython3",
   "version": "3.10.17"
  }
 },
 "nbformat": 4,
 "nbformat_minor": 5
}
