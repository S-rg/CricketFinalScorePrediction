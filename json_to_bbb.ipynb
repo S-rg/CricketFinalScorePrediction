{
 "cells": [
  {
   "cell_type": "code",
   "execution_count": 1,
   "id": "a272102e",
   "metadata": {},
   "outputs": [],
   "source": [
    "import numpy as np\n",
    "import pandas as pd\n",
    "import json\n",
    "import os\n",
    "from tqdm.notebook import tqdm"
   ]
  },
  {
   "cell_type": "code",
   "execution_count": 2,
   "id": "cdfca235",
   "metadata": {},
   "outputs": [
    {
     "data": {
      "text/plain": [
       "2924"
      ]
     },
     "execution_count": 2,
     "metadata": {},
     "output_type": "execute_result"
    }
   ],
   "source": [
    "files = os.listdir('odis_json')\n",
    "len(files)"
   ]
  },
  {
   "cell_type": "code",
   "execution_count": 3,
   "id": "257e277a",
   "metadata": {},
   "outputs": [
    {
     "data": {
      "application/vnd.jupyter.widget-view+json": {
       "model_id": "8d6dded349fe491ab1606bd6da4771b3",
       "version_major": 2,
       "version_minor": 0
      },
      "text/plain": [
       "Processing Matches:   0%|          | 0/2924 [00:00<?, ?it/s]"
      ]
     },
     "metadata": {},
     "output_type": "display_data"
    }
   ],
   "source": [
    "dfs = []\n",
    "ball_id = 1\n",
    "\n",
    "for file in tqdm(files, desc=\"Processing Matches: \"):\n",
    "    with open('odis_json/' + file) as f:\n",
    "        data = json.load(f)\n",
    "        rows = []\n",
    "        registry = data['info']['registry']['people']\n",
    "        teams = data['info']['teams']\n",
    "        match_id = file.split('.')[0]\n",
    "        match_date = data['info']['dates'][0]\n",
    "        venue = data['info']['venue']\n",
    "\n",
    "        dl = False\n",
    "\n",
    "        if 'method' in data['info']['outcome']:\n",
    "            if data['info']['outcome']['method'] == 'D/L':\n",
    "                dl = True\n",
    "\n",
    "        gender = data['info']['gender']\n",
    "\n",
    "        players = data['info']['players']\n",
    "        for team in players:\n",
    "            for player in range(len(players[team])):\n",
    "                players[team][player] = registry[players[team][player]]                \n",
    "\n",
    "        for innings_number, innings in enumerate(data['innings']):\n",
    "            bat_team = innings['team']\n",
    "            bowl_team = teams[1] if bat_team == teams[0] else teams[0]\n",
    "\n",
    "            bat_team_players = players[bat_team].copy()\n",
    "            bowl_team_players = players[bowl_team]\n",
    "\n",
    "            # Identify the top 5 bowlers who bowled the most in this innings\n",
    "            bowler_counts = {}\n",
    "            for over in innings['overs']:\n",
    "                for ball in over['deliveries']:\n",
    "                    bowler_id = registry[ball['bowler']]\n",
    "                    if bowler_id in bowler_counts:\n",
    "                        bowler_counts[bowler_id] += 1\n",
    "                    else:\n",
    "                        bowler_counts[bowler_id] = 1\n",
    "            \n",
    "            # Get the top 5 bowlers with the most balls bowled\n",
    "            top_5_bowlers = sorted(bowler_counts.items(), key=lambda x: x[1], reverse=True)[:5]\n",
    "            top_5_bowlers_ids = [bowler[0] for bowler in top_5_bowlers]\n",
    "            \n",
    "            # Fill with None if there are fewer than 5 bowlers\n",
    "            while len(top_5_bowlers_ids) < 5:\n",
    "                top_5_bowlers_ids.append(None)\n",
    "\n",
    "            for over in innings['overs']:\n",
    "                over_number = over['over']\n",
    "                ball_number = 1\n",
    "                for ball in over['deliveries']:\n",
    "                    wicket_type = None\n",
    "                    player_out = None\n",
    "                    if 'wickets' in ball:\n",
    "                        wicket = ball['wickets'][0]\n",
    "                        wicket_type = wicket.get('kind')\n",
    "                        player_out_id = wicket.get('player_out')\n",
    "                        player_out = registry[player_out_id]\n",
    "                    \n",
    "                    # Create the row dictionary with current state of players\n",
    "                    row = {\n",
    "                        'ball_id': ball_id,\n",
    "                        'match_id': match_id,\n",
    "                        'match_date': match_date,\n",
    "                        'dl': dl,\n",
    "                        'gender': gender,\n",
    "                        'venue': venue,\n",
    "                        'innings': innings_number + 1,\n",
    "                        'bat_team': bat_team,\n",
    "                        'bowl_team': bowl_team,\n",
    "                        'over': over_number,\n",
    "                        'ball': ball_number,\n",
    "                        'batter': registry[ball['batter']],\n",
    "                        'batter_name': ball['batter'],\n",
    "                        'bowler': registry[ball['bowler']],\n",
    "                        'bowler_name': ball['bowler'],\n",
    "                        'non_striker': registry[ball['non_striker']],\n",
    "                        'runs_batter': ball['runs']['batter'],\n",
    "                        'runs_extras': ball['runs']['extras'],\n",
    "                        'runs_total': ball['runs']['total'],\n",
    "                        'wicket_type': wicket_type,\n",
    "                        'player_out': player_out,\n",
    "                    }\n",
    "                    \n",
    "                    # Add batting team players - fill with None if fewer than 11 players\n",
    "                    for i in range(11):\n",
    "                        if i < len(bat_team_players):\n",
    "                            row[f'bat_team_player_{i+1}'] = bat_team_players[i]\n",
    "                        else:\n",
    "                            row[f'bat_team_player_{i+1}'] = None\n",
    "                    \n",
    "                    # Add only the top 5 bowlers\n",
    "                    for i in range(5):\n",
    "                        row[f'bowl_team_top_bowler_{i+1}'] = top_5_bowlers_ids[i]\n",
    "\n",
    "                    if 'extras' in ball:\n",
    "                        extras = ball['extras']\n",
    "                        if 'wides' in extras or 'noballs' in extras:\n",
    "                            ball_number -= 1\n",
    "\n",
    "                    ball_number += 1\n",
    "                    ball_id += 1 \n",
    "                    rows.append(row)\n",
    "                    \n",
    "        df = pd.DataFrame(rows)\n",
    "        dfs.append(df)"
   ]
  },
  {
   "cell_type": "code",
   "execution_count": 4,
   "id": "d553de5d",
   "metadata": {},
   "outputs": [
    {
     "data": {
      "application/vnd.jupyter.widget-view+json": {
       "model_id": "e698bb7f8a314a3b9b7f63a870237370",
       "version_major": 2,
       "version_minor": 0
      },
      "text/plain": [
       "Concatenating Matches:   0%|          | 0/2924 [00:00<?, ?it/s]"
      ]
     },
     "metadata": {},
     "output_type": "display_data"
    }
   ],
   "source": [
    "for df in tqdm(dfs, desc=\"Concatenating Matches: \"):\n",
    "    df['batter_total_runs'] = df.groupby(['innings', 'batter'])['runs_batter'].cumsum()\n",
    "    df['batter_balls_faced'] = df.apply(\n",
    "        lambda row: 1 if not ((row['runs_extras'] > 0) and (row['runs_batter'] == 0)) else 0, axis=1)\n",
    "    df['batter_balls_faced'] = df.groupby(['innings', 'batter'])['batter_balls_faced'].cumsum()\n",
    "\n",
    "    df['bowler_total_runs'] = df.groupby(['innings', 'bowler'])['runs_total'].cumsum()\n",
    "    df['bowler_balls_bowled'] = df.apply(\n",
    "        lambda row: 1 if not ((row['runs_extras'] > 0) and (row['runs_batter'] == 0)) else 0, axis=1)\n",
    "    df['bowler_balls_bowled'] = df.groupby(['innings', 'bowler'])['bowler_balls_bowled'].cumsum()\n",
    "\n",
    "    df['team_total_runs'] = df.groupby('innings')['runs_total'].cumsum()\n",
    "    df['wickets_taken'] = df['player_out'].notna().astype(int)\n",
    "    df['wickets_taken'] = df.groupby('innings')['wickets_taken'].cumsum()\n",
    "\n",
    "    df ['rr'] = df['team_total_runs'] / (df['over'] + df['ball'] / 6)\n",
    "    target = df[df['innings'] == 1]['team_total_runs'].iloc[-1] + 1\n",
    "    df['target'] = df['innings'].apply(lambda x: target if x == 2 else None)\n",
    "    \n",
    "    df['remaining_balls'] = 300 - (df['over'] * 6 + df['ball'])\n",
    "    df['rrr'] = df['target'] / (df['remaining_balls'] / 6)"
   ]
  },
  {
   "cell_type": "code",
   "execution_count": 5,
   "id": "6385a390",
   "metadata": {},
   "outputs": [],
   "source": [
    "df = pd.concat(dfs, ignore_index=True)\n",
    "df['match_date'] = pd.to_datetime(df['match_date'])\n",
    "df.sort_values(by=['match_date', 'match_id', 'innings', 'over', 'ball_id'], inplace=True)"
   ]
  },
  {
   "cell_type": "code",
   "execution_count": 6,
   "id": "90cfc04f",
   "metadata": {},
   "outputs": [],
   "source": [
    "# df.to_csv(\"data/bbb_from_json.csv\")"
   ]
  },
  {
   "cell_type": "code",
   "execution_count": 7,
   "id": "1c3718df",
   "metadata": {},
   "outputs": [],
   "source": [
    "df = df.reset_index(drop=True)\n",
    "df['ball_id'] = df.index\n",
    "df.set_index('ball_id', inplace=True)"
   ]
  },
  {
   "cell_type": "code",
   "execution_count": 8,
   "id": "2e911950",
   "metadata": {},
   "outputs": [],
   "source": [
    "df.to_csv(\"data/bbb_reindexed.csv\", index=True)"
   ]
  }
 ],
 "metadata": {
  "kernelspec": {
   "display_name": "base",
   "language": "python",
   "name": "python3"
  },
  "language_info": {
   "codemirror_mode": {
    "name": "ipython",
    "version": 3
   },
   "file_extension": ".py",
   "mimetype": "text/x-python",
   "name": "python",
   "nbconvert_exporter": "python",
   "pygments_lexer": "ipython3",
   "version": "3.11.4"
  }
 },
 "nbformat": 4,
 "nbformat_minor": 5
}
