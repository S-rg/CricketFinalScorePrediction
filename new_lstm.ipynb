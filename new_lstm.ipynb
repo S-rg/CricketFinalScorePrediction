{
 "cells": [
  {
   "cell_type": "code",
   "execution_count": 1,
   "id": "eaeb04b8",
   "metadata": {},
   "outputs": [],
   "source": [
    "import pandas as pd\n",
    "import numpy as np\n",
    "import pickle as pkl\n",
    "\n",
    "import matplotlib.pyplot as plt\n",
    "\n",
    "from keras.models import Sequential\n",
    "from keras.layers import Dense, LSTM, Input, Dropout, TimeDistributed, LayerNormalization, GlobalAveragePooling1D\n",
    "from keras.optimizers import Adam\n",
    "from tensorflow.keras.callbacks import ReduceLROnPlateau, EarlyStopping\n",
    "\n",
    "from sklearn.model_selection import train_test_split\n",
    "from sklearn.decomposition import PCA\n",
    "from sklearn.preprocessing import StandardScaler, MinMaxScaler"
   ]
  },
  {
   "cell_type": "code",
   "execution_count": 2,
   "id": "65974340",
   "metadata": {},
   "outputs": [],
   "source": [
    "df = pd.read_csv(\"data/bbb.csv\", index_col=0)\n",
    "df = df.drop(columns=['Unnamed: 0', 'Unnamed: 0.1'], errors='ignore')"
   ]
  },
  {
   "cell_type": "code",
   "execution_count": 3,
   "id": "10e47f3b",
   "metadata": {},
   "outputs": [
    {
     "data": {
      "text/plain": [
       "Index(['match_id', 'match_date', 'dl', 'gender', 'venue', 'innings',\n",
       "       'bat_team', 'bowl_team', 'over', 'ball', 'batter', 'batter_name',\n",
       "       'bowler', 'bowler_name', 'non_striker', 'runs_batter', 'runs_extras',\n",
       "       'runs_total', 'wicket_type', 'player_out', 'batter_total_runs',\n",
       "       'batter_balls_faced', 'bowler_total_runs', 'bowler_balls_bowled',\n",
       "       'team_total_runs', 'wickets_taken', 'rr', 'target', 'remaining_balls',\n",
       "       'rrr'],\n",
       "      dtype='object')"
      ]
     },
     "execution_count": 3,
     "metadata": {},
     "output_type": "execute_result"
    }
   ],
   "source": [
    "df.columns"
   ]
  },
  {
   "cell_type": "code",
   "execution_count": null,
   "id": "453dbe6a",
   "metadata": {},
   "outputs": [],
   "source": [
    "# Create LSTM based model to predict the final score of a cricket match\n",
    "\n",
    "def create_lstm_model(input_shape):\n",
    "    model = Sequential()\n",
    "    model.add(Input(shape=input_shape))\n",
    "    model.add(LSTM(64, return_sequences=True))\n",
    "    model.add(Dropout(0.2))\n",
    "    model.add(LSTM(32, return_sequences=False))\n",
    "    model.add(Dropout(0.2))\n",
    "    model.add(Dense(1, activation='linear'))\n",
    "    \n",
    "    model.compile(optimizer=Adam(), loss='mean_squared_error')\n",
    "    \n",
    "    return model\n",
    "\n",
    "# Prepare data for LSTM\n",
    "def prepare_data(df, target_column='target', time_steps=5):\n",
    "    features = df.drop(columns=[target_column])\n",
    "    target = df[target_column]\n",
    "    \n",
    "    X, y = [], []\n",
    "    \n",
    "    for i in range(len(features) - time_steps):\n",
    "        X.append(features.iloc[i:i + time_steps].values)\n",
    "        y.append(target.iloc[i + time_steps])\n",
    "    \n",
    "    X = np.array(X)\n",
    "    y = np.array(y)\n",
    "    \n",
    "    return X, y\n",
    "\n",
    "# Split data into training and testing sets\n",
    "X, y = prepare_data(df)\n",
    "X_train, X_test, y_train, y_test = train_test_split(X, y, test_size=0.2, random_state=42)\n",
    "\n",
    "# Create and train the model\n",
    "input_shape = (X_train.shape[1], X_train.shape[2])\n",
    "model = create_lstm_model(input_shape)\n",
    "model.summary()\n",
    "\n",
    "# Callbacks for training\n",
    "reduce_lr = ReduceLROnPlateau(monitor='val_loss', factor=0.\n",
    "2, patience=5, min_lr=1e-6)\n",
    "early_stopping = EarlyStopping(monitor='val_loss', patience=10, restore_best_weights=True)\n"
   ]
  }
 ],
 "metadata": {
  "kernelspec": {
   "display_name": "mlpr",
   "language": "python",
   "name": "python3"
  },
  "language_info": {
   "codemirror_mode": {
    "name": "ipython",
    "version": 3
   },
   "file_extension": ".py",
   "mimetype": "text/x-python",
   "name": "python",
   "nbconvert_exporter": "python",
   "pygments_lexer": "ipython3",
   "version": "3.10.17"
  }
 },
 "nbformat": 4,
 "nbformat_minor": 5
}
