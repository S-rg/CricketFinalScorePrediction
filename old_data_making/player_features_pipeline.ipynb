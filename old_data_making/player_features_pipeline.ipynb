{
 "cells": [
  {
   "cell_type": "code",
   "execution_count": 10,
   "id": "95587957",
   "metadata": {},
   "outputs": [],
   "source": [
    "import numpy as np\n",
    "import pandas as pd\n",
    "import pickle\n",
    "import os\n",
    "\n",
    "from tqdm.notebook import tqdm"
   ]
  },
  {
   "cell_type": "code",
   "execution_count": 11,
   "id": "eb3c36a1",
   "metadata": {},
   "outputs": [],
   "source": [
    "player_df = pd.read_csv('data/player_data.csv')\n",
    "\n",
    "df = pd.read_csv('data/bbb_reindexed.csv')"
   ]
  },
  {
   "cell_type": "code",
   "execution_count": 12,
   "id": "b2caabf7",
   "metadata": {},
   "outputs": [],
   "source": [
    "batter_df = player_df.rename(columns={\n",
    "    'player_id': 'batter',\n",
    "    'bat_hand': 'batter_bat_hand'\n",
    "})\n",
    "\n",
    "non_striker_df = player_df.rename(columns={\n",
    "    'player_id': 'non_striker',\n",
    "    'bat_hand': 'non_striker_bat_hand'\n",
    "})\n",
    "\n",
    "bowler_df = player_df.rename(columns={\n",
    "    'player_id': 'bowler',\n",
    "    'bowl_hand': 'bowler_hand',\n",
    "    'bowl_style_simple': 'bowler_style'\n",
    "})\n",
    "\n",
    "df = df.merge(batter_df[['batter', 'batter_bat_hand']], on='batter', how='left')\n",
    "df = df.merge(non_striker_df[['non_striker', 'non_striker_bat_hand']], on='non_striker', how='left')\n",
    "df = df.merge(bowler_df[['bowler', 'bowler_hand', 'bowler_style']], on='bowler', how='left')"
   ]
  },
  {
   "cell_type": "code",
   "execution_count": 13,
   "id": "1ddb9f79",
   "metadata": {},
   "outputs": [
    {
     "data": {
      "text/plain": [
       "array(['medium', 'offspin', 'fast', 'legspin', 'unknown', 'slow', nan],\n",
       "      dtype=object)"
      ]
     },
     "execution_count": 13,
     "metadata": {},
     "output_type": "execute_result"
    }
   ],
   "source": [
    "df['bowler_style'].unique()"
   ]
  },
  {
   "cell_type": "code",
   "execution_count": 5,
   "id": "b46e55cc",
   "metadata": {},
   "outputs": [
    {
     "data": {
      "text/plain": [
       "Index(['ball_id', 'match_id', 'match_date', 'dl', 'gender', 'venue', 'innings',\n",
       "       'bat_team', 'bowl_team', 'over', 'ball', 'batter', 'batter_name',\n",
       "       'bowler', 'bowler_name', 'non_striker', 'runs_batter', 'runs_extras',\n",
       "       'runs_total', 'wicket_type', 'player_out', 'bat_team_player_1',\n",
       "       'bat_team_player_2', 'bat_team_player_3', 'bat_team_player_4',\n",
       "       'bat_team_player_5', 'bat_team_player_6', 'bat_team_player_7',\n",
       "       'bat_team_player_8', 'bat_team_player_9', 'bat_team_player_10',\n",
       "       'bat_team_player_11', 'bowl_team_top_bowler_1',\n",
       "       'bowl_team_top_bowler_2', 'bowl_team_top_bowler_3',\n",
       "       'bowl_team_top_bowler_4', 'bowl_team_top_bowler_5', 'batter_total_runs',\n",
       "       'batter_balls_faced', 'bowler_total_runs', 'bowler_balls_bowled',\n",
       "       'team_total_runs', 'wickets_taken', 'rr', 'target', 'remaining_balls',\n",
       "       'rrr', 'batter_bat_hand', 'non_striker_bat_hand', 'bowler_hand',\n",
       "       'bowler_style'],\n",
       "      dtype='object')"
      ]
     },
     "execution_count": 5,
     "metadata": {},
     "output_type": "execute_result"
    }
   ],
   "source": [
    "df.columns"
   ]
  },
  {
   "cell_type": "code",
   "execution_count": 6,
   "id": "1b3c0b9d",
   "metadata": {},
   "outputs": [],
   "source": [
    "all_deliveries = df.index"
   ]
  },
  {
   "cell_type": "code",
   "execution_count": 7,
   "id": "e697969f",
   "metadata": {},
   "outputs": [
    {
     "data": {
      "application/vnd.jupyter.widget-view+json": {
       "model_id": "3ad54d33cbcc4f4e9307b240933c1bdd",
       "version_major": 2,
       "version_minor": 0
      },
      "text/plain": [
       "  0%|          | 0/2394 [00:00<?, ?it/s]"
      ]
     },
     "metadata": {},
     "output_type": "display_data"
    },
    {
     "data": {
      "application/vnd.jupyter.widget-view+json": {
       "model_id": "2103790e8a054c008126030e1b706918",
       "version_major": 2,
       "version_minor": 0
      },
      "text/plain": [
       "  0%|          | 0/2394 [00:00<?, ?it/s]"
      ]
     },
     "metadata": {},
     "output_type": "display_data"
    }
   ],
   "source": [
    "batter_timelines = {}\n",
    "all_stats = []\n",
    "\n",
    "for bat, group in tqdm(df.groupby('batter')):\n",
    "    legal_balls = ~((group['runs_extras'] > 0) & (group['runs_batter'] == 0))\n",
    "    \n",
    "    stats = pd.DataFrame({\n",
    "        'batter': bat,\n",
    "        'runs': group['runs_batter'].cumsum().shift(fill_value=0),\n",
    "        'balls': legal_balls.astype(int).cumsum().shift(fill_value=0),\n",
    "        'dismissals': (group['player_out'] == bat).astype(int).cumsum().shift(fill_value=0)\n",
    "    }, index=group.index)\n",
    "    \n",
    "    stats['avg'] = stats['runs'] / stats['dismissals'].replace(0, np.nan)\n",
    "    stats['sr'] = stats['runs'] / stats['balls'] * 100\n",
    "\n",
    "    spin_mask = group['bowler_style'].isin(['offspin', 'legspin'])\n",
    "    pace_mask = group['bowler_style'].isin(['medium', 'fast'])\n",
    "\n",
    "    stats['runs_vs_spin'] = (group['runs_batter'] * spin_mask).cumsum().shift(fill_value=0)\n",
    "    stats['balls_vs_spin'] = (legal_balls & spin_mask).astype(int).cumsum().shift(fill_value=0)\n",
    "    stats['dismissals_vs_spin'] = ((group['player_out'] == bat) & spin_mask).astype(int).cumsum().shift(fill_value=0)\n",
    "\n",
    "    stats['runs_vs_pace'] = (group['runs_batter'] * pace_mask).cumsum().shift(fill_value=0)\n",
    "    stats['balls_vs_pace'] = (legal_balls & pace_mask).astype(int).cumsum().shift(fill_value=0)\n",
    "    stats['dismissals_vs_pace'] = ((group['player_out'] == bat) & pace_mask).astype(int).cumsum().shift(fill_value=0)\n",
    "\n",
    "    stats['avg_vs_spin'] = stats['runs_vs_spin'] / stats['dismissals_vs_spin'].replace(0, np.nan)\n",
    "    stats['sr_vs_spin'] = stats['runs_vs_spin'] / stats['balls_vs_spin'] * 100\n",
    "    stats['avg_vs_pace'] = stats['runs_vs_pace'] / stats['dismissals_vs_pace'].replace(0, np.nan)\n",
    "    stats['sr_vs_pace'] = stats['runs_vs_pace'] / stats['balls_vs_pace'] * 100\n",
    "\n",
    "    stats['is_left'] = group['batter_bat_hand'] == 'left'\n",
    "    stats['is_right'] = group['batter_bat_hand'] == 'right'\n",
    "    \n",
    "    all_stats.append(stats)\n",
    "\n",
    "combined_stats = pd.concat(all_stats)\n",
    "\n",
    "full_stats_batter = combined_stats.reindex(all_deliveries).ffill().fillna(0)\n",
    "\n",
    "for bat in tqdm(df['batter'].unique()):\n",
    "    batter_stats = full_stats_batter[full_stats_batter['batter'] == bat].drop('batter', axis=1)\n",
    "    batter_timelines[bat] = batter_stats"
   ]
  },
  {
   "cell_type": "code",
   "execution_count": 8,
   "id": "6a84fc16",
   "metadata": {},
   "outputs": [],
   "source": [
    "def create_fast_lookup_map_vectorized(batter_timelines):\n",
    "    lookup_map = {}\n",
    "    \n",
    "    for batter_id, timeline in tqdm(batter_timelines.items()):\n",
    "        if timeline.empty:\n",
    "            lookup_map[batter_id] = {'ranges': [], 'mapping': {}}\n",
    "            continue\n",
    "            \n",
    "        sorted_indices = sorted(timeline.index)\n",
    "        ranges = []\n",
    "        mapping = {}\n",
    "        \n",
    "        first_idx = sorted_indices[0]\n",
    "        ranges.append((0, first_idx))\n",
    "        mapping[(0, first_idx)] = first_idx\n",
    "        \n",
    "        for i, idx in enumerate(sorted_indices):\n",
    "            if i < len(sorted_indices) - 1:\n",
    "                next_idx = sorted_indices[i+1]\n",
    "                ranges.append((idx, next_idx))\n",
    "                mapping[(idx, next_idx)] = idx\n",
    "            else:\n",
    "                ranges.append((idx, float('inf')))\n",
    "                mapping[(idx, float('inf'))] = idx\n",
    "        \n",
    "        lookup_map[batter_id] = {'ranges': ranges, 'mapping': mapping}\n",
    "    \n",
    "    return lookup_map"
   ]
  },
  {
   "cell_type": "code",
   "execution_count": 9,
   "id": "917d7e1d",
   "metadata": {},
   "outputs": [],
   "source": [
    "def get_stats_constant_time(batter_id, ball_id, lookup_map, batter_timelines):\n",
    "    if batter_id not in lookup_map:\n",
    "        return None\n",
    "    \n",
    "    batter_data = lookup_map[batter_id]\n",
    "    ranges = batter_data['ranges']\n",
    "    mapping = batter_data['mapping']\n",
    "    \n",
    "    left, right = 0, len(ranges) - 1\n",
    "    \n",
    "    while left <= right:\n",
    "        mid = (left + right) // 2\n",
    "        start, end = ranges[mid]\n",
    "        \n",
    "        if start <= ball_id < end:\n",
    "            idx = mapping[(start, end)]\n",
    "            return batter_timelines[batter_id].loc[idx]\n",
    "        elif ball_id >= end:\n",
    "            left = mid + 1\n",
    "        else:\n",
    "            right = mid - 1\n",
    "    \n",
    "    return None"
   ]
  },
  {
   "cell_type": "code",
   "execution_count": 10,
   "id": "3bbfd0c5",
   "metadata": {},
   "outputs": [
    {
     "data": {
      "application/vnd.jupyter.widget-view+json": {
       "model_id": "9ca7ec22a44e4f999c86faa023aea731",
       "version_major": 2,
       "version_minor": 0
      },
      "text/plain": [
       "  0%|          | 0/2394 [00:00<?, ?it/s]"
      ]
     },
     "metadata": {},
     "output_type": "display_data"
    }
   ],
   "source": [
    "lookup_batsmen = create_fast_lookup_map_vectorized(batter_timelines)"
   ]
  },
  {
   "cell_type": "code",
   "execution_count": 11,
   "id": "42880d26",
   "metadata": {},
   "outputs": [
    {
     "data": {
      "application/vnd.jupyter.widget-view+json": {
       "model_id": "f20caffa25564698a41916a91af2d612",
       "version_major": 2,
       "version_minor": 0
      },
      "text/plain": [
       "  0%|          | 0/1844 [00:00<?, ?it/s]"
      ]
     },
     "metadata": {},
     "output_type": "display_data"
    },
    {
     "data": {
      "application/vnd.jupyter.widget-view+json": {
       "model_id": "257935a0d5e741fe992937fe58fb6a2f",
       "version_major": 2,
       "version_minor": 0
      },
      "text/plain": [
       "  0%|          | 0/1844 [00:00<?, ?it/s]"
      ]
     },
     "metadata": {},
     "output_type": "display_data"
    }
   ],
   "source": [
    "bowler_timelines = {}\n",
    "all_bowler_stats = []\n",
    "\n",
    "for bowl, group in tqdm(df.groupby('bowler')):\n",
    "    legal_balls = ~((group['runs_extras'] > 0) & (group['runs_batter'] == 0))\n",
    "    \n",
    "    stats = pd.DataFrame({\n",
    "        'bowler': bowl,\n",
    "        'runs_conceded': (group['runs_batter'] + group['runs_extras']).cumsum().shift(fill_value=0),\n",
    "        'balls_bowled': legal_balls.astype(int).cumsum().shift(fill_value=0),\n",
    "        'wickets': (~pd.isna(group['player_out'])).astype(int).cumsum().shift(fill_value=0)\n",
    "    }, index=group.index)\n",
    "    \n",
    "    stats['bowling_avg'] = stats['runs_conceded'] / stats['wickets'].replace(0, np.nan)\n",
    "    stats['bowling_sr'] = stats['balls_bowled'] / stats['wickets'].replace(0, np.nan)\n",
    "    stats['economy'] = stats['runs_conceded'] / (stats['balls_bowled'] / 6)\n",
    "\n",
    "    rh_batsman_mask = group['batter_bat_hand'] == 'right'\n",
    "    lh_batsman_mask = group['batter_bat_hand'] == 'left'\n",
    "    \n",
    "    stats['runs_vs_right'] = (group['runs_batter'] * rh_batsman_mask).cumsum().shift(fill_value=0)\n",
    "    stats['balls_vs_right'] = (legal_balls & rh_batsman_mask).astype(int).cumsum().shift(fill_value=0)\n",
    "    stats['wickets_vs_right'] = (~pd.isna(group['player_out']) & rh_batsman_mask).astype(int).cumsum().shift(fill_value=0)\n",
    "    \n",
    "    stats['runs_vs_left'] = (group['runs_batter'] * lh_batsman_mask).cumsum().shift(fill_value=0)\n",
    "    stats['balls_vs_left'] = (legal_balls & lh_batsman_mask).astype(int).cumsum().shift(fill_value=0)\n",
    "    stats['wickets_vs_left'] = (~pd.isna(group['player_out']) & lh_batsman_mask).astype(int).cumsum().shift(fill_value=0)\n",
    "    \n",
    "    stats['bowling_avg_vs_right'] = stats['runs_vs_right'] / stats['wickets_vs_right'].replace(0, np.nan)\n",
    "    stats['bowling_sr_vs_right'] = stats['balls_vs_right'] / stats['wickets_vs_right'].replace(0, np.nan)\n",
    "    stats['economy_vs_right'] = stats['runs_vs_right'] / (stats['balls_vs_right'] / 6)\n",
    "    \n",
    "    stats['bowling_avg_vs_left'] = stats['runs_vs_left'] / stats['wickets_vs_left'].replace(0, np.nan)\n",
    "    stats['bowling_sr_vs_left'] = stats['balls_vs_left'] / stats['wickets_vs_left'].replace(0, np.nan)\n",
    "    stats['economy_vs_left'] = stats['runs_vs_left'] / (stats['balls_vs_left'] / 6)\n",
    "    \n",
    "    # Add flags for bowler type\n",
    "    is_spin = group['bowler_style'].iloc[0] in ['offspin', 'legspin']\n",
    "    is_pace = group['bowler_style'].iloc[0] in ['medium', 'fast']\n",
    "    \n",
    "    stats['is_spin'] = is_spin\n",
    "    stats['is_pace'] = is_pace\n",
    "    \n",
    "    all_bowler_stats.append(stats)\n",
    "\n",
    "combined_bowler_stats = pd.concat(all_bowler_stats)\n",
    "\n",
    "full_stats_bowler = combined_bowler_stats.reindex(all_deliveries).ffill().fillna(0)\n",
    "\n",
    "for bowl in tqdm(df['bowler'].unique()):\n",
    "    bowler_stats = full_stats_bowler[full_stats_bowler['bowler'] == bowl].drop('bowler', axis=1)\n",
    "    bowler_timelines[bowl] = bowler_stats"
   ]
  },
  {
   "cell_type": "code",
   "execution_count": 12,
   "id": "425ff453",
   "metadata": {},
   "outputs": [
    {
     "data": {
      "application/vnd.jupyter.widget-view+json": {
       "model_id": "3baf6dd8fe584e74b96c2e6a6ba6efd1",
       "version_major": 2,
       "version_minor": 0
      },
      "text/plain": [
       "  0%|          | 0/1844 [00:00<?, ?it/s]"
      ]
     },
     "metadata": {},
     "output_type": "display_data"
    }
   ],
   "source": [
    "lookup_bowlers = create_fast_lookup_map_vectorized(bowler_timelines)"
   ]
  },
  {
   "cell_type": "code",
   "execution_count": 13,
   "id": "d79325c0",
   "metadata": {},
   "outputs": [],
   "source": [
    "os.makedirs('data/lookup_maps', exist_ok=True)\n",
    "with open('data/lookup_maps/lookup_batsmen.pkl', 'wb') as f:\n",
    "    pickle.dump(lookup_batsmen, f)\n",
    "\n",
    "with open('data/lookup_maps/lookup_bowlers.pkl', 'wb') as f:\n",
    "    pickle.dump(lookup_bowlers, f)\n",
    "\n",
    "with open('data/lookup_maps/batter_timelines.pkl', 'wb') as f:\n",
    "    pickle.dump(batter_timelines, f)\n",
    "\n",
    "with open('data/lookup_maps/bowler_timelines.pkl', 'wb') as f:\n",
    "    pickle.dump(bowler_timelines, f)"
   ]
  },
  {
   "cell_type": "code",
   "execution_count": null,
   "id": "06d4b3e1",
   "metadata": {},
   "outputs": [],
   "source": []
  }
 ],
 "metadata": {
  "kernelspec": {
   "display_name": "mlpr",
   "language": "python",
   "name": "python3"
  },
  "language_info": {
   "codemirror_mode": {
    "name": "ipython",
    "version": 3
   },
   "file_extension": ".py",
   "mimetype": "text/x-python",
   "name": "python",
   "nbconvert_exporter": "python",
   "pygments_lexer": "ipython3",
   "version": "3.13.2"
  }
 },
 "nbformat": 4,
 "nbformat_minor": 5
}
